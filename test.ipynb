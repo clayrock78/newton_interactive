{
 "cells": [
  {
   "cell_type": "code",
   "execution_count": 1,
   "metadata": {},
   "outputs": [
    {
     "name": "stdout",
     "output_type": "stream",
     "text": [
      "(2, 300, 300)\n"
     ]
    },
    {
     "data": {
      "text/plain": [
       "array([[[0.        +0.j, 0.00027871+0.j, 0.00055741+0.j, ...,\n",
       "         0.08277592+0.j, 0.08305462+0.j, 0.08333334+0.j],\n",
       "        [0.        +0.j, 0.00027871+0.j, 0.00055741+0.j, ...,\n",
       "         0.08277592+0.j, 0.08305462+0.j, 0.08333334+0.j],\n",
       "        [0.        +0.j, 0.00027871+0.j, 0.00055741+0.j, ...,\n",
       "         0.08277592+0.j, 0.08305462+0.j, 0.08333334+0.j],\n",
       "        ...,\n",
       "        [0.        +0.j, 0.00027871+0.j, 0.00055741+0.j, ...,\n",
       "         0.08277592+0.j, 0.08305462+0.j, 0.08333334+0.j],\n",
       "        [0.        +0.j, 0.00027871+0.j, 0.00055741+0.j, ...,\n",
       "         0.08277592+0.j, 0.08305462+0.j, 0.08333334+0.j],\n",
       "        [0.        +0.j, 0.00027871+0.j, 0.00055741+0.j, ...,\n",
       "         0.08277592+0.j, 0.08305462+0.j, 0.08333334+0.j]],\n",
       "\n",
       "       [[0.        +0.j, 0.        +0.j, 0.        +0.j, ...,\n",
       "         0.        +0.j, 0.        +0.j, 0.        +0.j],\n",
       "        [0.00027871+0.j, 0.00027871+0.j, 0.00027871+0.j, ...,\n",
       "         0.00027871+0.j, 0.00027871+0.j, 0.00027871+0.j],\n",
       "        [0.00055741+0.j, 0.00055741+0.j, 0.00055741+0.j, ...,\n",
       "         0.00055741+0.j, 0.00055741+0.j, 0.00055741+0.j],\n",
       "        ...,\n",
       "        [0.08277592+0.j, 0.08277592+0.j, 0.08277592+0.j, ...,\n",
       "         0.08277592+0.j, 0.08277592+0.j, 0.08277592+0.j],\n",
       "        [0.08305462+0.j, 0.08305462+0.j, 0.08305462+0.j, ...,\n",
       "         0.08305462+0.j, 0.08305462+0.j, 0.08305462+0.j],\n",
       "        [0.08333334+0.j, 0.08333334+0.j, 0.08333334+0.j, ...,\n",
       "         0.08333334+0.j, 0.08333334+0.j, 0.08333334+0.j]]],\n",
       "      dtype=complex64)"
      ]
     },
     "execution_count": 1,
     "metadata": {},
     "output_type": "execute_result"
    }
   ],
   "source": [
    "import numpy as np\n",
    "\n",
    "real_width = 5\n",
    "real_offset = 0\n",
    "imag_height = 5\n",
    "imag_offset = 0\n",
    "\n",
    "ITERATIONS = 10\n",
    "WIDTH = 300\n",
    "HEIGHT = 300\n",
    "\n",
    "from root import Root\n",
    "roots = [Root(1, 1, (255,255, 0)), Root(.5, .5, (255,0,0)), Root(3,3,(0,0,255))]\n",
    "\n",
    "\n",
    "def distance_between(pos1, pos2):\n",
    "    result = (pos1.real - pos2.real) ** 2 + (pos1.imag - pos2.imag) ** 2\n",
    "    return result\n",
    "\n",
    "def distance_between_tuples(pos1, pos2):\n",
    "    return ((pos1[0] - pos2[0])**2 + (pos1[1] - pos2[1])**2)**.5\n",
    "\n",
    "def complex_to_pix(root:Root):\n",
    "    x = root.real / real_width * WIDTH\n",
    "    y = root.imag / imag_height * HEIGHT\n",
    "    return x,y\n",
    "\n",
    "def pix_to_complex(pos):\n",
    "    x = pos[0] / WIDTH * real_width \n",
    "    y = pos[1] / HEIGHT * imag_height\n",
    "    return x,y\n",
    "\n",
    "def f(x):\n",
    "    current = np.full(x.shape, np.complex64(1))\n",
    "    for root in roots:\n",
    "        current *= (x - root.complex)\n",
    "    return current\n",
    "\n",
    "def f_prime(x):\n",
    "    step = .000001\n",
    "    return (f(x + step) - f(x)) / step\n",
    "\n",
    "x = np.linspace(real_offset, real_width, WIDTH)\n",
    "y = np.linspace(imag_offset, imag_height, HEIGHT)\n",
    "reals, imags = np.meshgrid(x,y)\n",
    "c = np.complex64(pix_to_complex((reals,imags)))\n",
    "print(c.shape)\n",
    "#for _ in range(ITERATIONS):\n",
    "#    c = c - f(c) / f_prime(c)\n",
    "\n",
    "c"
   ]
  },
  {
   "cell_type": "code",
   "execution_count": 41,
   "metadata": {},
   "outputs": [],
   "source": [
    "color_shape = [300,300,3]\n",
    "colors = np.zeros(color_shape)\n",
    "nearest_color = np.empty((300,300,3))\n",
    "nearest_distance = np.full((1,90000),np.inf)\n"
   ]
  },
  {
   "cell_type": "code",
   "execution_count": 29,
   "metadata": {},
   "outputs": [],
   "source": [
    "from scipy.spatial.distance import cdist\n",
    "def distance_between(pos1, pos2):\n",
    "    return cdist(pos1, pos2)"
   ]
  },
  {
   "cell_type": "code",
   "execution_count": 42,
   "metadata": {},
   "outputs": [
    {
     "data": {
      "text/plain": [
       "(1, 90000)"
      ]
     },
     "execution_count": 42,
     "metadata": {},
     "output_type": "execute_result"
    }
   ],
   "source": []
  },
  {
   "cell_type": "code",
   "execution_count": 46,
   "metadata": {},
   "outputs": [],
   "source": [
    "for root in roots:\n",
    "    c.shape = (2,300**2)\n",
    "    distance = np.sqrt(((c[:, None] - np.complex64(1.5+1.5j)) ** 2).sum())\n",
    "    distance.shape\n",
    "    nearest_distance.shape = (1,300**2)\n",
    "    mask = np.greater(nearest_distance, distance)\n",
    "    nearest_distance = np.where(mask, distance, nearest_distance)\n",
    "    mask.shape = (300,300,1)\n",
    "    nearest_color = np.where(mask, np.full((300,300,3),np.array(root.color)), nearest_color)"
   ]
  },
  {
   "cell_type": "code",
   "execution_count": 47,
   "metadata": {},
   "outputs": [
    {
     "name": "stderr",
     "output_type": "stream",
     "text": [
      "Clipping input data to the valid range for imshow with RGB data ([0..1] for floats or [0..255] for integers).\n"
     ]
    },
    {
     "data": {
      "image/png": "[encoded data removed]",
      "text/plain": [
       "<Figure size 640x480 with 1 Axes>"
      ]
     },
     "metadata": {},
     "output_type": "display_data"
    }
   ],
   "source": [
    "from matplotlib import pyplot as plt\n",
    "plt.imshow(nearest_color, interpolation='nearest')\n",
    "plt.show()"
   ]
  }
 ],
 "metadata": {
  "kernelspec": {
   "display_name": "Python 3.9.13 64-bit (microsoft store)",
   "language": "python",
   "name": "python3"
  },
  "language_info": {
   "codemirror_mode": {
    "name": "ipython",
    "version": 3
   },
   "file_extension": ".py",
   "mimetype": "text/x-python",
   "name": "python",
   "nbconvert_exporter": "python",
   "pygments_lexer": "ipython3",
   "version": "3.9.13"
  },
  "orig_nbformat": 4,
  "vscode": {
   "interpreter": {
    "hash": "28d5ee18dd7dace7ea0f103d4b096870c0c6a5900b5e5d520d8c2f37ccd4c023"
   }
  }
 },
 "nbformat": 4,
 "nbformat_minor": 2
}
